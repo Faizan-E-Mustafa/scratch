{
 "cells": [
  {
   "cell_type": "code",
   "execution_count": null,
   "metadata": {},
   "outputs": [],
   "source": [
    "# default_exp models.naive_bayes"
   ]
  },
  {
   "cell_type": "markdown",
   "metadata": {},
   "source": [
    "# models.naive_bayes\n",
    "\n",
    "> Naive Bayes Algorithm for Binary Classification with Laplace Smoothing."
   ]
  },
  {
   "cell_type": "code",
   "execution_count": null,
   "metadata": {},
   "outputs": [],
   "source": [
    "#export\n",
    "import pandas as pd\n",
    "import numpy as np\n",
    "from collections import defaultdict, Counter"
   ]
  },
  {
   "cell_type": "code",
   "execution_count": null,
   "metadata": {},
   "outputs": [],
   "source": [
    "#hide\n",
    "df = pd.read_csv(\"./datasets/Kaggle/train.csv\")\n",
    "x = df[\"text\"].tolist()\n",
    "y = df[\"target\"].tolist()\n",
    "train_percent = 0.70\n",
    "cut = int(len(x) * train_percent)\n",
    "x_train = x[:cut]\n",
    "x_train = [x.split() for x in x_train]\n",
    "x_test = x[cut:]\n",
    "x_test = [x.split() for x in x_test]\n",
    "y_train = y[:cut]\n",
    "y_test = y[cut:]"
   ]
  },
  {
   "cell_type": "markdown",
   "metadata": {},
   "source": [
    "Data is taken from kaggle competition [Real or Not? NLP with Disaster Tweets](https://www.kaggle.com/c/nlp-getting-started])\n",
    "\n",
    "Data Sample: "
   ]
  },
  {
   "cell_type": "code",
   "execution_count": null,
   "metadata": {},
   "outputs": [
    {
     "name": "stdout",
     "output_type": "stream",
     "text": [
      "Two  tweets == [['Our', 'Deeds', 'are', 'the', 'Reason', 'of', 'this', '#earthquake', 'May', 'ALLAH', 'Forgive', 'us', 'all'], ['Forest', 'fire', 'near', 'La', 'Ronge', 'Sask.', 'Canada']]\n",
      "Tweet Label == [1, 1]\n"
     ]
    }
   ],
   "source": [
    "print(f\"Two  tweets == {x_train[:2]}\")\n",
    "print(f\"Tweet Label == {y_train[:2]}\")"
   ]
  },
  {
   "cell_type": "code",
   "execution_count": null,
   "metadata": {},
   "outputs": [],
   "source": [
    "#export\n",
    "class NaiveBayes:\n",
    "    \"\"\"Naive Bayes Algorithm for Binary Classification\"\"\"\n",
    "    \n",
    "    def __init__(self):\n",
    "        self.class1_term_cf = defaultdict(int) #term frequency in class 1\n",
    "        self.class2_term_cf = defaultdict(int) #term frequency in class 2\n",
    "        self.classes = []\n",
    "    \n",
    "    def fit(self, X, y):\n",
    "        \"\"\" Train Naive Bayes.\n",
    "        \n",
    "        Args:\n",
    "        \n",
    "            X (nested list): nested list of tokenized samples.\n",
    "            y (list): list of corresponding lables.\n",
    "        \"\"\"\n",
    "        \n",
    "        self._get_priors(y)\n",
    "        self._get_term_class_freq(X, y)\n",
    "        self._get_vocab_length()\n",
    "        \n",
    "    def _get_priors(self, y_train):\n",
    "        \"\"\"Calculate the priors for both classes\"\"\"\n",
    "        \n",
    "        self.priors = Counter(y_train)\n",
    "        self.classes = list(self.priors.keys())\n",
    "        total = sum(self.priors.values())\n",
    "        for class_name in self.priors.keys():\n",
    "            self.priors[class_name] /= total\n",
    "    \n",
    "    def _get_term_class_freq(self, x_train, y_train):\n",
    "        \"\"\"Calculate term frequency in each class\"\"\"\n",
    "        \n",
    "        for index , sample in enumerate(x_train):\n",
    "            for term in sample:\n",
    "                if   y_train[index] == self.classes[0]:\n",
    "                    self.class1_term_cf[term] += 1\n",
    "                elif y_train[index] == self.classes[1]:\n",
    "                    self.class2_term_cf[term]  += 1\n",
    "                    \n",
    "        self.class1_cf = sum(self.class1_term_cf.values())\n",
    "        self.class2_cf = sum(self.class2_term_cf.values())\n",
    "           \n",
    "    def _get_vocab_length(self):\n",
    "        self.vocab_length = len(set(list(self.class1_term_cf.keys()) + \\\n",
    "                                    list(self.class2_term_cf.keys())))\n",
    "                    \n",
    "    def predict(self, X):\n",
    "        \"\"\" Predict the labels for samples.\n",
    "        \n",
    "        Args:\n",
    "        \n",
    "            X(nested list): nested list of tokenized samples.\n",
    "            \n",
    "        Returns:\n",
    "        \n",
    "            list of predicted label.\n",
    "        \"\"\"\n",
    "        \n",
    "        predictions = []\n",
    "        for sample in X:\n",
    "            predictions.append(self._predict_label(sample))\n",
    "        return predictions\n",
    "    \n",
    "    def _predict_label(self, sample):\n",
    "        \"\"\"predict label for one sample / instance\"\"\"\n",
    "        \n",
    "        summation_class1 = np.sum([np.log(self._prob_term_given_label(term , label = self.classes[0]))\\\n",
    "                                 for term in sample])\n",
    "        summation_class2 = np.sum([np.log(self._prob_term_given_label(term , label = self.classes[1]))\\\n",
    "                                 for term in sample])\n",
    "        prob_class1  = np.log(self.priors[self.classes[0]]) + summation_class1\n",
    "        prob_class2  = np.log(self.priors[self.classes[1]]) + summation_class2\n",
    "       \n",
    "        prediction = self.classes[0] if prob_class1 > prob_class2 else self.classes[1]\n",
    "        return prediction\n",
    "    \n",
    "    def _prob_term_given_label(self, term , label):\n",
    "        \"\"\"calculate probability of term given some label / class ,laplace smoothing applied\"\"\"\n",
    "        \n",
    "        if   label == self.classes[0]:\n",
    "            return (self.class1_term_cf[term] + 1) / (self.class1_cf + self.vocab_length)\n",
    "        elif label == self.classes[1]:\n",
    "            return (self.class2_term_cf[term] + 1)  / (self.class2_cf + self.vocab_length)"
   ]
  },
  {
   "cell_type": "code",
   "execution_count": null,
   "metadata": {},
   "outputs": [],
   "source": [
    "#hide\n",
    "from nbdev.showdoc import *"
   ]
  },
  {
   "cell_type": "code",
   "execution_count": null,
   "metadata": {},
   "outputs": [
    {
     "data": {
      "text/markdown": [
       "<h4 id=\"NaiveBayes.fit\" class=\"doc_header\"><code>NaiveBayes.fit</code><a href=\"__main__.py#L10\" class=\"source_link\" style=\"float:right\">[source]</a></h4>\n",
       "\n",
       "> <code>NaiveBayes.fit</code>(**`X`**, **`y`**)\n",
       "\n",
       "Train Naive Bayes.\n",
       "\n",
       "Args:\n",
       "\n",
       "    X (nested list): nested list of tokenized samples.\n",
       "    y (list): list of corresponding lables."
      ],
      "text/plain": [
       "<IPython.core.display.Markdown object>"
      ]
     },
     "metadata": {},
     "output_type": "display_data"
    }
   ],
   "source": [
    "show_doc(NaiveBayes.fit)"
   ]
  },
  {
   "cell_type": "code",
   "execution_count": null,
   "metadata": {},
   "outputs": [
    {
     "data": {
      "text/markdown": [
       "<h4 id=\"NaiveBayes.predict\" class=\"doc_header\"><code>NaiveBayes.predict</code><a href=\"__main__.py#L49\" class=\"source_link\" style=\"float:right\">[source]</a></h4>\n",
       "\n",
       "> <code>NaiveBayes.predict</code>(**`X`**)\n",
       "\n",
       "Predict the labels for samples.\n",
       "\n",
       "Args:\n",
       "\n",
       "    X(nested list): nested list of tokenized samples.\n",
       "    \n",
       "Returns:\n",
       "\n",
       "    list of predicted label."
      ],
      "text/plain": [
       "<IPython.core.display.Markdown object>"
      ]
     },
     "metadata": {},
     "output_type": "display_data"
    }
   ],
   "source": [
    "show_doc(NaiveBayes.predict)"
   ]
  },
  {
   "cell_type": "code",
   "execution_count": null,
   "metadata": {},
   "outputs": [],
   "source": [
    "from scratch.models.naive_bayes import NaiveBayes"
   ]
  },
  {
   "cell_type": "code",
   "execution_count": null,
   "metadata": {},
   "outputs": [],
   "source": [
    "nb = NaiveBayes()"
   ]
  },
  {
   "cell_type": "code",
   "execution_count": null,
   "metadata": {},
   "outputs": [],
   "source": [
    "nb.fit(x_train, y_train)"
   ]
  },
  {
   "cell_type": "code",
   "execution_count": null,
   "metadata": {},
   "outputs": [
    {
     "data": {
      "text/plain": [
       "[1, 0]"
      ]
     },
     "execution_count": null,
     "metadata": {},
     "output_type": "execute_result"
    }
   ],
   "source": [
    "nb.classes"
   ]
  },
  {
   "cell_type": "code",
   "execution_count": null,
   "metadata": {},
   "outputs": [
    {
     "data": {
      "text/plain": [
       "24501"
      ]
     },
     "execution_count": null,
     "metadata": {},
     "output_type": "execute_result"
    }
   ],
   "source": [
    "nb.vocab_length"
   ]
  },
  {
   "cell_type": "code",
   "execution_count": null,
   "metadata": {},
   "outputs": [],
   "source": [
    "predictions = nb.predict(x_test)"
   ]
  },
  {
   "cell_type": "code",
   "execution_count": null,
   "metadata": {},
   "outputs": [],
   "source": [
    "#hide\n",
    "def accuracy(y_test, y_pred):\n",
    "    correct = len([True for idx in range(len(y_test)) if y_test[idx] == y_pred[idx]])\n",
    "    total = len(y_test)\n",
    "    return correct / total"
   ]
  },
  {
   "cell_type": "code",
   "execution_count": null,
   "metadata": {},
   "outputs": [
    {
     "data": {
      "text/plain": [
       "0.7329246935201401"
      ]
     },
     "execution_count": null,
     "metadata": {},
     "output_type": "execute_result"
    }
   ],
   "source": [
    "accuracy(y_test, predictions)"
   ]
  },
  {
   "cell_type": "code",
   "execution_count": null,
   "metadata": {},
   "outputs": [
    {
     "name": "stdout",
     "output_type": "stream",
     "text": [
      "Converted 01_count_vectorizer.ipynb.\n",
      "Converted 02_naive_bayes.ipynb.\n",
      "Converted 03_KNN.ipynb.\n",
      "Converted index.ipynb.\n",
      "Converted main.ipynb.\n"
     ]
    }
   ],
   "source": [
    "#hide\n",
    "from nbdev.export import *\n",
    "notebook2script()"
   ]
  },
  {
   "cell_type": "code",
   "execution_count": null,
   "metadata": {},
   "outputs": [],
   "source": []
  }
 ],
 "metadata": {
  "kernelspec": {
   "display_name": "Python 3",
   "language": "python",
   "name": "python3"
  }
 },
 "nbformat": 4,
 "nbformat_minor": 4
}
