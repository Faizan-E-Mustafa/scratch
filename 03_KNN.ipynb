{
 "cells": [
  {
   "cell_type": "code",
   "execution_count": null,
   "metadata": {},
   "outputs": [],
   "source": [
    "# default_exp models.KNN"
   ]
  },
  {
   "cell_type": "markdown",
   "metadata": {},
   "source": [
    "# models.KNN\n",
    "\n",
    "> Implementation of K Nearest Neighbours with Euclidean Distance and Weighted based on distance.(Weighted KNN)"
   ]
  },
  {
   "cell_type": "code",
   "execution_count": null,
   "metadata": {},
   "outputs": [],
   "source": [
    "#export\n",
    "import warnings \n",
    "warnings.filterwarnings(\"ignore\")\n",
    "\n",
    "import pandas as pd\n",
    "import numpy as np\n",
    "from collections import defaultdict, Counter\n",
    "\n",
    "from sklearn.model_selection import train_test_split\n",
    "from sklearn import datasets"
   ]
  },
  {
   "cell_type": "code",
   "execution_count": null,
   "metadata": {},
   "outputs": [],
   "source": [
    "#hide\n",
    "iris = datasets.load_iris()\n",
    "X = iris.data\n",
    "y = iris.target\n",
    "X_train, X_test, y_train, y_test = train_test_split(X, y, test_size=0.35, random_state=41)"
   ]
  },
  {
   "cell_type": "markdown",
   "metadata": {},
   "source": [
    "Iris DataSet is loaded from sklearn."
   ]
  },
  {
   "cell_type": "code",
   "execution_count": null,
   "metadata": {},
   "outputs": [
    {
     "data": {
      "text/plain": [
       "array([[5.2, 3.5, 1.5, 0.2],\n",
       "       [5.5, 4.2, 1.4, 0.2],\n",
       "       [5.9, 3. , 5.1, 1.8]])"
      ]
     },
     "execution_count": null,
     "metadata": {},
     "output_type": "execute_result"
    }
   ],
   "source": [
    "X_train[:3]"
   ]
  },
  {
   "cell_type": "code",
   "execution_count": null,
   "metadata": {},
   "outputs": [
    {
     "data": {
      "text/plain": [
       "array([0, 0, 2])"
      ]
     },
     "execution_count": null,
     "metadata": {},
     "output_type": "execute_result"
    }
   ],
   "source": [
    "y_train[:3]"
   ]
  },
  {
   "cell_type": "code",
   "execution_count": null,
   "metadata": {},
   "outputs": [
    {
     "name": "stdout",
     "output_type": "stream",
     "text": [
      "Classes = [0, 2, 1]\n"
     ]
    }
   ],
   "source": [
    "print(f\"Classes = {list(Counter(y_train).keys())}\")"
   ]
  },
  {
   "cell_type": "code",
   "execution_count": null,
   "metadata": {},
   "outputs": [],
   "source": [
    "#export\n",
    "class KNearestNeighbors:\n",
    "    \"\"\"K Nearest Neighbour Algorithm , Standard and Weighted KNN\"\"\"\n",
    "    \n",
    "    def __init__(self, k, distance_metric = 'standard'):\n",
    "        \"\"\"\n",
    "        Args:\n",
    "        \n",
    "            k(int): Take K nearest neighbours into account\n",
    "            \n",
    "            distance_metric(str): \"weighted KNN\" | \"standard\"\n",
    "        \"\"\"\n",
    "        self.k = k\n",
    "        self.distance_metric = distance_metric\n",
    "        \n",
    "    def fit(self, X, y):\n",
    "        \"\"\"Train KNN\"\"\"\n",
    "        self.X = X\n",
    "        self.y = y\n",
    "        self.labels = list(Counter(y).keys())\n",
    "    \n",
    "    def predict(self, X):\n",
    "        \"\"\" Prediction for samples.\n",
    "        \n",
    "        Args:\n",
    "        \n",
    "            X: Numpy array of shape(m, n)\n",
    "            \n",
    "        Returns:\n",
    "        \n",
    "            array of shape (m,)\n",
    "        \"\"\"\n",
    "        predictions = np.array([])\n",
    "        \n",
    "        for test_sample in X:\n",
    "            distance = np.array([])\n",
    "            \n",
    "            for train_sample in self.X:\n",
    "                distance = np.append(distance , euclidean_distance(train_sample, test_sample))\n",
    "            \n",
    "            # get indexes for k closest points\n",
    "            k_min_distance_indexes = distance.argsort()[:self.k]\n",
    "            # get gold predictions using indexes.\n",
    "            prediction_pool = self.y[k_min_distance_indexes]\n",
    "            # get unique predictions and their counts.\n",
    "            k_min_values , k_min_counts = np.unique(prediction_pool, return_counts=True)\n",
    "            \n",
    "            #weighted KNN\n",
    "            if self.distance_metric == \"weighted KNN\":\n",
    "                pool = zip(prediction_pool, np.sort(distance)[:self.k])\n",
    "                pred = distance_weights(pool, self.labels)\n",
    "                predictions = np.append(predictions, pred)\n",
    "                \n",
    "            else:\n",
    "                max_count_index = np.argmax(k_min_counts)\n",
    "                predictions = np.append(predictions, k_min_values[max_count_index])\n",
    "            \n",
    "        return predictions  \n",
    "    \n",
    "def euclidean_distance(x1, x2):\n",
    "    \"\"\"Euclidean distance between numpy arrays\"\"\"\n",
    "    \n",
    "    return np.sqrt(np.sum((x1 - x2)*(x1 - x2)))\n",
    "\n",
    "def distance_weights(pool, labels):\n",
    "    \"\"\"Calculate weights based on distance\"\"\"\n",
    "\n",
    "    weights = [0 for _ in range(len(labels))]\n",
    "    \n",
    "    for i in pool:\n",
    "        for label in labels:\n",
    "            pool_label = i[0]\n",
    "            distance   = i[1]\n",
    "            if pool_label == label:\n",
    "                weights[label] += 1 / distance\n",
    "                \n",
    "    return weights.index(max(weights))"
   ]
  },
  {
   "cell_type": "code",
   "execution_count": null,
   "metadata": {},
   "outputs": [],
   "source": [
    "#hide\n",
    "def accuracy(y_test, y_pred):\n",
    "    correct = len([True for idx in range(len(y_test)) if y_test[idx] == y_pred[idx]])\n",
    "    total = len(y_test)\n",
    "    return correct / total"
   ]
  },
  {
   "cell_type": "code",
   "execution_count": null,
   "metadata": {},
   "outputs": [],
   "source": [
    "#hide\n",
    "from nbdev.showdoc import *"
   ]
  },
  {
   "cell_type": "code",
   "execution_count": null,
   "metadata": {},
   "outputs": [
    {
     "data": {
      "text/markdown": [
       "<h4 id=\"KNearestNeighbors.predict\" class=\"doc_header\"><code>KNearestNeighbors.predict</code><a href=\"__main__.py#L22\" class=\"source_link\" style=\"float:right\">[source]</a></h4>\n",
       "\n",
       "> <code>KNearestNeighbors.predict</code>(**`X`**)\n",
       "\n",
       "Prediction for samples.\n",
       "\n",
       "Args:\n",
       "\n",
       "    X: Numpy array of shape(m, n)\n",
       "    \n",
       "Returns:\n",
       "\n",
       "    array of shape (m,)"
      ],
      "text/plain": [
       "<IPython.core.display.Markdown object>"
      ]
     },
     "metadata": {},
     "output_type": "display_data"
    }
   ],
   "source": [
    "show_doc(KNearestNeighbors.predict)"
   ]
  },
  {
   "cell_type": "code",
   "execution_count": null,
   "metadata": {},
   "outputs": [],
   "source": [
    "knn =  KNearestNeighbors(5, distance_metric = \"standard\")\n",
    "\n",
    "knn.fit(X_train, y_train)\n",
    "\n",
    "pred = knn.predict(X_test)"
   ]
  },
  {
   "cell_type": "code",
   "execution_count": null,
   "metadata": {},
   "outputs": [
    {
     "data": {
      "text/plain": [
       "0.9433962264150944"
      ]
     },
     "execution_count": null,
     "metadata": {},
     "output_type": "execute_result"
    }
   ],
   "source": [
    " accuracy(y_test, pred)"
   ]
  },
  {
   "cell_type": "code",
   "execution_count": null,
   "metadata": {},
   "outputs": [],
   "source": [
    "knn =  KNearestNeighbors(5, distance_metric = \"weighted KNN\")\n",
    "\n",
    "knn.fit(X_train, y_train)\n",
    "\n",
    "pred = knn.predict(X_test)"
   ]
  },
  {
   "cell_type": "code",
   "execution_count": null,
   "metadata": {},
   "outputs": [
    {
     "data": {
      "text/plain": [
       "0.9433962264150944"
      ]
     },
     "execution_count": null,
     "metadata": {},
     "output_type": "execute_result"
    }
   ],
   "source": [
    " accuracy(y_test, pred)"
   ]
  },
  {
   "cell_type": "code",
   "execution_count": null,
   "metadata": {},
   "outputs": [
    {
     "name": "stdout",
     "output_type": "stream",
     "text": [
      "Converted 01_count_vectorizer.ipynb.\n",
      "Converted 02_naive_bayes.ipynb.\n",
      "Converted 03_KNN.ipynb.\n",
      "Converted index.ipynb.\n",
      "Converted main.ipynb.\n"
     ]
    }
   ],
   "source": [
    "#hide\n",
    "from nbdev.export import *\n",
    "notebook2script()"
   ]
  },
  {
   "cell_type": "code",
   "execution_count": null,
   "metadata": {},
   "outputs": [],
   "source": []
  }
 ],
 "metadata": {
  "kernelspec": {
   "display_name": "Python 3",
   "language": "python",
   "name": "python3"
  }
 },
 "nbformat": 4,
 "nbformat_minor": 1
}
