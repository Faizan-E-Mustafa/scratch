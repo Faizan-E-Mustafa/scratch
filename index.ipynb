{
 "cells": [
  {
   "cell_type": "code",
   "execution_count": null,
   "metadata": {},
   "outputs": [],
   "source": [
    "#hide\n",
    "from scratch.core import *"
   ]
  },
  {
   "cell_type": "markdown",
   "metadata": {},
   "source": [
    "# scratch\n",
    "\n",
    "> Implementation of basic Machine Learning algorithms from scratch(almost).\n"
   ]
  },
  {
   "cell_type": "markdown",
   "metadata": {},
   "source": [
    "# Motivation \n",
    "- Create a resource for someone who wants to learn by implementing things.\n",
    "- Impove my understanding by implementing algorithms from scratch."
   ]
  },
  {
   "cell_type": "markdown",
   "metadata": {},
   "source": [
    "## Algorithms Implemented\n",
    "- [X] Bag of Words\n",
    "- [X] Naive Bayes with Laplace Smooting\n",
    "- [X] K Nearest Neighbour (Standard and Weighted)\n",
    "\n",
    "## To be Implemented\n",
    "- [ ] Linear Regression\n",
    "- [ ] Logistic Regression\n",
    "- [ ] Evaluation metrics\n",
    "- [ ] K-fold cross validation\n",
    "\n"
   ]
  }
 ],
 "metadata": {
  "kernelspec": {
   "display_name": "Python 3",
   "language": "python",
   "name": "python3"
  }
 },
 "nbformat": 4,
 "nbformat_minor": 2
}
