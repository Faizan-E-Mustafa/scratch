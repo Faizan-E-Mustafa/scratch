{
 "cells": [
  {
   "cell_type": "code",
   "execution_count": null,
   "metadata": {},
   "outputs": [],
   "source": [
    "# default_exp feature_extraction.text"
   ]
  },
  {
   "cell_type": "markdown",
   "metadata": {},
   "source": [
    "# feature_extraction.text\n",
    "\n",
    "> Basic feature extraction techniques for text."
   ]
  },
  {
   "cell_type": "code",
   "execution_count": null,
   "metadata": {},
   "outputs": [],
   "source": [
    "#hide\n",
    "from nbdev.showdoc import *"
   ]
  },
  {
   "cell_type": "code",
   "execution_count": null,
   "metadata": {},
   "outputs": [],
   "source": [
    "#export\n",
    "from collections import Counter, defaultdict\n",
    "from scipy.sparse import coo_matrix\n",
    "import numpy as np"
   ]
  },
  {
   "cell_type": "code",
   "execution_count": null,
   "metadata": {},
   "outputs": [],
   "source": [
    "x_train = [[\"a\", \"b\", \"a\"], [\"a\", \"b\"], [\"c\", \"b\"], [\"d\", \"b\"]]\n",
    "x_test  = [[\"a\", \"b\"], [\"a\"], [\"c\", \"b\", \"b\"], [\"c\"]]\n",
    "y_train = [1,1,2,3]"
   ]
  },
  {
   "cell_type": "code",
   "execution_count": null,
   "metadata": {},
   "outputs": [],
   "source": [
    "#export\n",
    "class CountVectorizer:\n",
    "    \"\"\"Implementation of Bag of Word Model\"\"\"\n",
    "    \n",
    "    def __init__(self, store_class_vocab = False):\n",
    "        if store_class_vocab:\n",
    "            self.store_class_vocab = {} \n",
    "        \n",
    "    def _calculate_stats(self, y_train):\n",
    "        \"\"\"Calculates basic stats: labels , labels frequency, and distrubution of labels/class\"\"\"\n",
    "        self.labels, self.labels_freq = np.unique(y_train, return_counts= True)\n",
    "        total_freq = np.sum(self.labels_freq)\n",
    "        self.distribution = self.labels_freq / total_freq\n",
    "        \n",
    "    def _get_vocab(self,  x_train, y_train):\n",
    "        \"\"\"Build vocabulary  and store corresponding frequency of word types\"\"\"\n",
    "        \n",
    "        vocab = Counter()\n",
    "        for label in self.labels:\n",
    "            vocab += self._word_to_count_map(x_train, y_train , label)\n",
    "        \n",
    "        self.vocab, self.vocab_freq = zip(*vocab.items())\n",
    "\n",
    "    def _word_to_count_map(self, x_train, y_train , label):\n",
    "        \"\"\"A dictionary that maps from word types in a class to its frequency\"\"\"\n",
    "        \n",
    "        word_to_count = defaultdict(int)\n",
    "        for index , sample in enumerate(x_train):\n",
    "            if y_train[index] == label:\n",
    "                for term in sample:\n",
    "                    word_to_count[term] += 1\n",
    "        \n",
    "        try: # can be used to store vocab of individual classes\n",
    "            self.store_class_vocab[label] = word_to_count \n",
    "        finally:\n",
    "            return Counter(word_to_count)\n",
    "        \n",
    "    def fit(self, x_train, y_train):\n",
    "        \"\"\"Calcultes neccesary stats to build Bag of Words model\"\n",
    "        \n",
    "        Args:\n",
    "            x_train (nested list): list of list containing samples.\n",
    "            y_train (list): labels for training samples.\n",
    "        \"\"\"\n",
    "        \n",
    "        self._calculate_stats(y_train)\n",
    "        self._get_vocab(x_train, y_train)\n",
    "        \n",
    "    def transform(self, X):\n",
    "        \"\"\"Make Bag of Words vector.\n",
    "        \n",
    "        Args:\n",
    "            X (nested list): list of list containing samples.\n",
    "            \n",
    "        Returns:\n",
    "            sparse coordinate matrix of shape(len(X), len(vocab))\n",
    "        \"\"\"\n",
    "        rows = []\n",
    "        columns = []\n",
    "        data = []\n",
    "        \n",
    "        for sample_index, sample in enumerate(X):\n",
    "            sample = Counter(sample)\n",
    "            for term, term_freq in sample.items():\n",
    "                vocab_index = self.vocab.index(term)\n",
    "                columns.append(vocab_index)\n",
    "                rows.append(sample_index)\n",
    "                data.append(term_freq)\n",
    "       \n",
    "        return coo_matrix((data,(rows, columns)))\n"
   ]
  },
  {
   "cell_type": "code",
   "execution_count": null,
   "metadata": {},
   "outputs": [],
   "source": [
    "cv =  CountVectorizer(store_class_vocab = True )"
   ]
  },
  {
   "cell_type": "code",
   "execution_count": null,
   "metadata": {},
   "outputs": [],
   "source": [
    "# cv._calculate_stats(y_train)\n",
    "\n",
    "# cv.labels, cv.labels_freq, cv.distribution\n",
    "\n",
    "# cv._word_to_count_map(x_train,y_train,  3)\n",
    "\n",
    "# cv._get_vocab( x_train, y_train)\n",
    "\n",
    "# cv.vocab, cv.vocab_freq\n",
    "\n",
    "# cv.store_compressed_bow\n",
    "\n",
    "# cv.vocab ,cv.vocab_freq"
   ]
  },
  {
   "cell_type": "code",
   "execution_count": null,
   "metadata": {},
   "outputs": [],
   "source": [
    "cv.fit(x_train, y_train)"
   ]
  },
  {
   "cell_type": "code",
   "execution_count": null,
   "metadata": {},
   "outputs": [],
   "source": [
    "a = cv.transform(x_train).tocsr() \n",
    "b = cv.transform(x_test).tocsr() "
   ]
  },
  {
   "cell_type": "code",
   "execution_count": null,
   "metadata": {},
   "outputs": [
    {
     "data": {
      "text/plain": [
       "(array([[2, 1, 0, 0],\n",
       "        [1, 1, 0, 0],\n",
       "        [0, 1, 1, 0],\n",
       "        [0, 1, 0, 1]], dtype=int64),\n",
       " array([[1, 1, 0],\n",
       "        [1, 0, 0],\n",
       "        [0, 2, 1],\n",
       "        [0, 0, 1]], dtype=int64))"
      ]
     },
     "execution_count": null,
     "metadata": {},
     "output_type": "execute_result"
    }
   ],
   "source": [
    "a.toarray(), b.toarray()"
   ]
  },
  {
   "cell_type": "code",
   "execution_count": null,
   "metadata": {},
   "outputs": [
    {
     "data": {
      "text/plain": [
       "array([[3, 2, 0],\n",
       "       [2, 1, 0],\n",
       "       [1, 2, 1],\n",
       "       [1, 0, 1]], dtype=int64)"
      ]
     },
     "execution_count": null,
     "metadata": {},
     "output_type": "execute_result"
    }
   ],
   "source": [
    "a.dot(b).toarray()"
   ]
  },
  {
   "cell_type": "code",
   "execution_count": null,
   "metadata": {},
   "outputs": [
    {
     "data": {
      "text/plain": [
       "{1: defaultdict(int, {'a': 3, 'b': 2}),\n",
       " 2: defaultdict(int, {'c': 1, 'b': 1}),\n",
       " 3: defaultdict(int, {'d': 1, 'b': 1})}"
      ]
     },
     "execution_count": null,
     "metadata": {},
     "output_type": "execute_result"
    }
   ],
   "source": [
    "cv.store_class_vocab"
   ]
  },
  {
   "cell_type": "code",
   "execution_count": null,
   "metadata": {},
   "outputs": [
    {
     "name": "stdout",
     "output_type": "stream",
     "text": [
      "Converted 00_core.ipynb.\n",
      "Converted 01_count_vectorizer.ipynb.\n",
      "Converted index.ipynb.\n",
      "Converted main.ipynb.\n"
     ]
    }
   ],
   "source": [
    "from nbdev.export import *\n",
    "notebook2script()"
   ]
  },
  {
   "cell_type": "code",
   "execution_count": null,
   "metadata": {},
   "outputs": [],
   "source": []
  }
 ],
 "metadata": {
  "kernelspec": {
   "display_name": "Python 3",
   "language": "python",
   "name": "python3"
  }
 },
 "nbformat": 4,
 "nbformat_minor": 4
}
